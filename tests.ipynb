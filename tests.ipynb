{
 "cells": [
  {
   "cell_type": "code",
   "execution_count": 1,
   "metadata": {},
   "outputs": [],
   "source": [
    "import numpy as np\n",
    "import pandas as pd\n",
    "import yfinance as yf"
   ]
  },
  {
   "cell_type": "code",
   "execution_count": 17,
   "metadata": {},
   "outputs": [],
   "source": [
    "\n",
    "def get_data(ticker, start_date= '2000-01-01', end_date = pd.to_datetime('today').strftime('%Y-%m-%d'), interval='1wk', period=None):\n",
    "    if period is not None:\n",
    "        df = yf.download(ticker, period=period, interval=interval)\n",
    "    else:\n",
    "        df = yf.download(ticker, start=start_date, end=end_date, interval=interval)\n",
    "    window_size = 3\n",
    "    log_returns = np.log(df['Adj Close'] / df['Adj Close'].shift(1))\n",
    "    rolling_std_dev = log_returns.rolling(window=window_size).std()\n",
    "    rolling_annualized_volatility = rolling_std_dev * np.sqrt(52)\n",
    "    df['Volatility'] = rolling_annualized_volatility\n",
    "    df['weekly_change'] = df['Adj Close'].pct_change() * 100\n",
    "    return df"
   ]
  },
  {
   "cell_type": "code",
   "execution_count": 5,
   "metadata": {},
   "outputs": [],
   "source": [
    "def get_volatility_range(df, num_std_devs = 1):\n",
    "    curr_volatility = df['Volatility'][-1]\n",
    "    std = df['Volatility'].std()\n",
    "    return (curr_volatility - num_std_devs * std, curr_volatility + num_std_devs * std)\n",
    "\n",
    "def filter_volatility_range(df, a, b):\n",
    "    return df[(df['Volatility'] >= a) & (df['Volatility'] <= b)]\n",
    "\n",
    "\n",
    "def get_bounds_for_running_prob(weekly_changes_within_volatility_range):\n",
    "    bounds = {}\n",
    "    for percentile in range(5, 50, 5):\n",
    "        percentile = percentile / 100\n",
    "        range_lower, range_upper = weekly_changes_within_volatility_range.quantile(percentile), weekly_changes_within_volatility_range.quantile(1-percentile)\n",
    "        bounds[int((1-(percentile * 2)) * 100)] = (range_lower, range_upper)\n",
    "\n",
    "    return [f\"within {percent} percents, the weekly change is between {bound}\" for percent, bound in bounds.items()]\n",
    "\n",
    "def get_percent_for_bound(a,b, weekly_changes_within_volatility_range):\n",
    "    return len(weekly_changes_within_volatility_range[(weekly_changes_within_volatility_range >= a) & (weekly_changes_within_volatility_range <= b)]) / len(weekly_changes_within_volatility_range) * 100\n",
    "\n"
   ]
  },
  {
   "cell_type": "code",
   "execution_count": 30,
   "metadata": {},
   "outputs": [
    {
     "name": "stderr",
     "output_type": "stream",
     "text": [
      "[*********************100%%**********************]  1 of 1 completed"
     ]
    },
    {
     "name": "stdout",
     "output_type": "stream",
     "text": [
      "                                 Open        High         Low       Close  \\\n",
      "Datetime                                                                    \n",
      "2024-03-22 09:30:00-04:00  171.860001  172.320007  171.500000  172.057495   \n",
      "2024-03-22 09:31:00-04:00  172.065002  172.080002  171.720001  171.899994   \n",
      "2024-03-22 09:32:00-04:00  171.899994  171.910004  171.500595  171.701996   \n",
      "2024-03-22 09:33:00-04:00  171.699997  171.750000  171.210007  171.240005   \n",
      "2024-03-22 09:34:00-04:00  171.236893  171.236893  170.800003  170.804993   \n",
      "...                               ...         ...         ...         ...   \n",
      "2024-03-22 15:55:00-04:00  172.289993  172.470001  172.279999  172.380005   \n",
      "2024-03-22 15:56:00-04:00  172.375000  172.429993  172.330002  172.350006   \n",
      "2024-03-22 15:57:00-04:00  172.339996  172.419998  172.330002  172.404999   \n",
      "2024-03-22 15:58:00-04:00  172.409897  172.490005  172.389999  172.478897   \n",
      "2024-03-22 15:59:00-04:00  172.479004  172.479996  172.240005  172.250000   \n",
      "\n",
      "                            Adj Close   Volume  Volatility  weekly_change  \n",
      "Datetime                                                                   \n",
      "2024-03-22 09:30:00-04:00  172.057495  3069968         NaN            NaN  \n",
      "2024-03-22 09:31:00-04:00  171.899994   427213         NaN      -0.091540  \n",
      "2024-03-22 09:32:00-04:00  171.701996   359183         NaN      -0.115182  \n",
      "2024-03-22 09:33:00-04:00  171.240005   445360    0.006964      -0.269065  \n",
      "2024-03-22 09:34:00-04:00  170.804993   580429    0.006129      -0.254037  \n",
      "...                               ...      ...         ...            ...  \n",
      "2024-03-22 15:55:00-04:00  172.380005   380870    0.006265       0.046432  \n",
      "2024-03-22 15:56:00-04:00  172.350006   292582    0.005680      -0.017403  \n",
      "2024-03-22 15:57:00-04:00  172.404999   347301    0.002413       0.031908  \n",
      "2024-03-22 15:58:00-04:00  172.478897   278936    0.002315       0.042863  \n",
      "2024-03-22 15:59:00-04:00  172.250000  2222716    0.007096      -0.132710  \n",
      "\n",
      "[390 rows x 8 columns]\n"
     ]
    },
    {
     "name": "stderr",
     "output_type": "stream",
     "text": [
      "\n"
     ]
    }
   ],
   "source": [
    "# Get the weekly changes within the recent volatility range\n",
    "df = get_data('AAPL', '2024-03-22', interval='1m')\n",
    "print(df)"
   ]
  },
  {
   "cell_type": "code",
   "execution_count": null,
   "metadata": {},
   "outputs": [],
   "source": []
  },
  {
   "cell_type": "code",
   "execution_count": null,
   "metadata": {},
   "outputs": [],
   "source": []
  }
 ],
 "metadata": {
  "kernelspec": {
   "display_name": "aba_and_me-TeipVEh_",
   "language": "python",
   "name": "python3"
  },
  "language_info": {
   "codemirror_mode": {
    "name": "ipython",
    "version": 3
   },
   "file_extension": ".py",
   "mimetype": "text/x-python",
   "name": "python",
   "nbconvert_exporter": "python",
   "pygments_lexer": "ipython3",
   "version": "3.10.10"
  }
 },
 "nbformat": 4,
 "nbformat_minor": 2
}
