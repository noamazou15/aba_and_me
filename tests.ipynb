{
 "cells": [
  {
   "cell_type": "code",
   "execution_count": 1,
   "metadata": {},
   "outputs": [
    {
     "name": "stderr",
     "output_type": "stream",
     "text": [
      "[*********************100%%**********************]  1 of 1 completed\n"
     ]
    }
   ],
   "source": [
    "import numpy as np\n",
    "import pandas as pd\n",
    "import yfinance as yf"
   ]
  },
  {
   "cell_type": "code",
   "execution_count": 43,
   "metadata": {},
   "outputs": [],
   "source": [
    "\n",
    "def get_data(ticker, start_date= '2000-01-01', end_date = '2024-22-03'):\n",
    "    df = yf.download(ticker, start=start_date, end=end_date, interval='1wk')\n",
    "    window_size = 3\n",
    "    log_returns = np.log(df['Adj Close'] / df['Adj Close'].shift(1))\n",
    "    rolling_std_dev = log_returns.rolling(window=window_size).std()\n",
    "    rolling_annualized_volatility = rolling_std_dev * np.sqrt(52)\n",
    "    df['Volatility'] = rolling_annualized_volatility\n",
    "    df['weekly_change'] = df['Adj Close'].pct_change() * 100\n",
    "    return df"
   ]
  },
  {
   "cell_type": "code",
   "execution_count": 47,
   "metadata": {},
   "outputs": [],
   "source": [
    "def get_volatility_range(df, num_std_devs = 1):\n",
    "    curr_volatility = df['Volatility'][-1]\n",
    "    std = df['Volatility'].std()\n",
    "    return (curr_volatility - num_std_devs * std, curr_volatility + num_std_devs * std)\n",
    "\n",
    "def filter_volatility_range(df, a, b):\n",
    "    return df[(df['Volatility'] >= a) & (df['Volatility'] <= b)]\n",
    "\n",
    "\n",
    "def get_bounds_for_running_prob(weekly_changes_within_volatility_range):\n",
    "    bounds = {}\n",
    "    for percentile in range(5, 50, 5):\n",
    "        percentile = percentile / 100\n",
    "        range_lower, range_upper = weekly_changes_within_volatility_range.quantile(percentile), weekly_changes_within_volatility_range.quantile(1-percentile)\n",
    "        bounds[int((1-(percentile * 2)) * 100)] = (range_lower, range_upper)\n",
    "\n",
    "    return [f\"within {percent} percents, the weekly change is between {bound}\" for percent, bound in bounds.items()]\n",
    "\n",
    "def get_percent_for_bound(a,b, weekly_changes_within_volatility_range):\n",
    "    return len(weekly_changes_within_volatility_range[(weekly_changes_within_volatility_range >= a) & (weekly_changes_within_volatility_range <= b)]) / len(weekly_changes_within_volatility_range) * 100\n",
    "\n"
   ]
  },
  {
   "cell_type": "code",
   "execution_count": 49,
   "metadata": {},
   "outputs": [
    {
     "name": "stderr",
     "output_type": "stream",
     "text": [
      "[*********************100%%**********************]  1 of 1 completed"
     ]
    },
    {
     "name": "stdout",
     "output_type": "stream",
     "text": [
      "['within 90 percents, the weekly change is between (-3.616833141176584, 7.624649856207166)', 'within 80 percents, the weekly change is between (-2.290431473186072, 6.786074271998066)', 'within 70 percents, the weekly change is between (-1.2354976308395216, 6.0416623302533115)', 'within 60 percents, the weekly change is between (-0.7744049216247606, 4.654513624536372)', 'within 50 percents, the weekly change is between (-0.1624508243355388, 4.120570887481262)', 'within 40 percents, the weekly change is between (0.1421906089995595, 3.1272931062630405)', 'within 30 percents, the weekly change is between (0.3566183347633034, 2.6984204877179394)', 'within 19 percents, the weekly change is between (0.8277438010400484, 2.267217255406462)', 'within 9 percents, the weekly change is between (1.301112438970159, 2.105912680934363)']\n"
     ]
    },
    {
     "name": "stderr",
     "output_type": "stream",
     "text": [
      "\n",
      "C:\\Users\\noama\\AppData\\Local\\Temp\\ipykernel_8324\\3064302233.py:2: FutureWarning: Series.__getitem__ treating keys as positions is deprecated. In a future version, integer keys will always be treated as labels (consistent with DataFrame behavior). To access a value by position, use `ser.iloc[pos]`\n",
      "  curr_volatility = df['Volatility'][-1]\n"
     ]
    }
   ],
   "source": [
    "# Get the weekly changes within the recent volatility range\n",
    "df = get_data('AAPL', '2020-01-01', '2021-01-01')\n",
    "a, b = get_volatility_range(df)\n",
    "weekly_changes_within_volatility_range = filter_volatility_range(df, a, b)['weekly_change']\n",
    "print(get_bounds_for_running_prob(weekly_changes_within_volatility_range))"
   ]
  },
  {
   "cell_type": "code",
   "execution_count": null,
   "metadata": {},
   "outputs": [],
   "source": []
  }
 ],
 "metadata": {
  "kernelspec": {
   "display_name": "aba_and_me-TeipVEh_",
   "language": "python",
   "name": "python3"
  },
  "language_info": {
   "codemirror_mode": {
    "name": "ipython",
    "version": 3
   },
   "file_extension": ".py",
   "mimetype": "text/x-python",
   "name": "python",
   "nbconvert_exporter": "python",
   "pygments_lexer": "ipython3",
   "version": "3.10.10"
  }
 },
 "nbformat": 4,
 "nbformat_minor": 2
}
